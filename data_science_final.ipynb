{
 "cells": [
  {
   "cell_type": "code",
   "execution_count": 1,
   "metadata": {},
   "outputs": [],
   "source": [
    "import numpy as np\n",
    "import pandas as pd\n",
    "import csv\n",
    "import datetime\n",
    "\n",
    "from sklearn.preprocessing import LabelEncoder, OneHotEncoder, normalize, scale\n",
    "from sklearn.model_selection import train_test_split, cross_val_score\n",
    "from sklearn.metrics import mean_squared_error, log_loss, r2_score\n",
    "from sklearn.linear_model import LinearRegression, Ridge, Lasso, LogisticRegression\n",
    "from sklearn.neural_network import MLPRegressor\n",
    "from sklearn.svm import SVR\n",
    "\n",
    "import matplotlib.pyplot as plt"
   ]
  },
  {
   "cell_type": "markdown",
   "metadata": {},
   "source": [
    "# Load data"
   ]
  },
  {
   "cell_type": "code",
   "execution_count": 2,
   "metadata": {},
   "outputs": [],
   "source": [
    "df = pd.read_csv('./data/dabang_fin_final_real1.csv') #read"
   ]
  },
  {
   "cell_type": "markdown",
   "metadata": {},
   "source": [
    "# PREPROCESSING"
   ]
  },
  {
   "cell_type": "code",
   "execution_count": 3,
   "metadata": {},
   "outputs": [
    {
     "name": "stdout",
     "output_type": "stream",
     "text": [
      "        room_size_m2  room_size  near_subways  sell_type0_month  \\\n",
      "0              49.50         14             0                 1   \n",
      "1              66.00         19             0                 1   \n",
      "2              26.40          7             0                 1   \n",
      "3              13.00          3             1                 1   \n",
      "4              56.10         16             0                 0   \n",
      "5              42.90         12             0                 1   \n",
      "6              20.00          6             0                 1   \n",
      "7              99.20         30             1                 1   \n",
      "8              26.40          7             0                 1   \n",
      "9              44.00         13             0                 0   \n",
      "10             21.00          6             0                 1   \n",
      "11             39.60         11             1                 1   \n",
      "12             24.00          7             1                 1   \n",
      "13             59.40         17             0                 1   \n",
      "14             19.00          5             1                 1   \n",
      "15             16.50          4             0                 0   \n",
      "16             20.00          6             0                 1   \n",
      "17             75.90         22             1                 1   \n",
      "18             29.99          9             0                 1   \n",
      "19             58.00         17             1                 0   \n",
      "20             19.80          5             1                 0   \n",
      "21             66.00         19             1                 1   \n",
      "22             23.10          6             1                 1   \n",
      "23             13.20          3             0                 1   \n",
      "24             36.30         10             0                 0   \n",
      "25             16.50          4             0                 1   \n",
      "26             20.00          6             0                 0   \n",
      "27             39.00         11             1                 0   \n",
      "28             49.00         14             0                 0   \n",
      "29             23.10          6             1                 1   \n",
      "...              ...        ...           ...               ...   \n",
      "124986         75.90         22             0                 0   \n",
      "124987         75.90         22             0                 0   \n",
      "124988         75.90         22             0                 0   \n",
      "124989         75.90         22             0                 0   \n",
      "124990         23.10          6             0                 1   \n",
      "124991         26.40          7             0                 0   \n",
      "124992         29.70          8             0                 1   \n",
      "124993         36.30         10             0                 1   \n",
      "124994         36.30         10             0                 1   \n",
      "124995         23.10          6             0                 0   \n",
      "124996         16.50          4             0                 1   \n",
      "124997         19.80          5             0                 1   \n",
      "124998         16.50          4             0                 1   \n",
      "124999         29.70          8             0                 0   \n",
      "125000         23.10          6             0                 0   \n",
      "125001         19.80          5             0                 0   \n",
      "125002         33.00          9             0                 1   \n",
      "125003         59.40         17             0                 0   \n",
      "125004         64.13         19             0                 0   \n",
      "125005         26.40          7             0                 0   \n",
      "125006         36.30         10             0                 1   \n",
      "125007        138.80         41             0                 1   \n",
      "125008         33.00          9             0                 1   \n",
      "125009         50.40         15             0                 0   \n",
      "125010         33.00          9             0                 1   \n",
      "125011         26.40          7             0                 1   \n",
      "125012         92.60         28             0                 1   \n",
      "125013         26.40          7             0                 1   \n",
      "125014         26.40          7             0                 0   \n",
      "125015         19.80          5             0                 0   \n",
      "\n",
      "        sell_type1_all  sell_type2_sell  maintenance_cost  op0_aircond  \\\n",
      "0                    0                0          1.000000     1.000000   \n",
      "1                    0                0          5.410244     0.000000   \n",
      "2                    0                0          7.000000     1.000000   \n",
      "3                    0                0          5.410244     1.000000   \n",
      "4                    1                0          5.410244     0.841044   \n",
      "5                    0                0          5.000000     0.000000   \n",
      "6                    0                0          5.000000     1.000000   \n",
      "7                    0                0          1.000000     0.000000   \n",
      "8                    0                0          5.000000     0.841044   \n",
      "9                    1                0          5.000000     1.000000   \n",
      "10                   0                0         10.000000     1.000000   \n",
      "11                   0                0          5.410244     0.841044   \n",
      "12                   0                0          7.000000     1.000000   \n",
      "13                   0                0          5.410244     0.000000   \n",
      "14                   0                0          6.000000     1.000000   \n",
      "15                   1                0          7.000000     1.000000   \n",
      "16                   0                0          3.000000     1.000000   \n",
      "17                   0                0          5.410244     0.000000   \n",
      "18                   0                0         10.000000     1.000000   \n",
      "19                   1                0          5.000000     1.000000   \n",
      "20                   1                0          5.000000     1.000000   \n",
      "21                   0                0          5.410244     1.000000   \n",
      "22                   0                0          6.000000     1.000000   \n",
      "23                   0                0          4.000000     1.000000   \n",
      "24                   1                0          3.000000     1.000000   \n",
      "25                   0                0          5.000000     1.000000   \n",
      "26                   1                0          8.000000     1.000000   \n",
      "27                   1                0          5.000000     1.000000   \n",
      "28                   1                0          5.410244     0.000000   \n",
      "29                   0                0          5.000000     1.000000   \n",
      "...                ...              ...               ...          ...   \n",
      "124986               1                0          3.000000     0.000000   \n",
      "124987               1                0          3.000000     0.000000   \n",
      "124988               1                0          3.000000     0.000000   \n",
      "124989               1                0          3.000000     0.000000   \n",
      "124990               0                0          5.000000     1.000000   \n",
      "124991               1                0          8.000000     1.000000   \n",
      "124992               0                0          5.000000     1.000000   \n",
      "124993               0                0          4.000000     1.000000   \n",
      "124994               0                0          3.000000     1.000000   \n",
      "124995               1                0          5.000000     1.000000   \n",
      "124996               0                0          5.000000     1.000000   \n",
      "124997               0                0          5.410244     0.841044   \n",
      "124998               0                0          5.000000     1.000000   \n",
      "124999               1                0          5.000000     1.000000   \n",
      "125000               1                0          6.000000     1.000000   \n",
      "125001               1                0          5.410244     1.000000   \n",
      "125002               0                0          7.000000     1.000000   \n",
      "125003               1                0          5.410244     0.841044   \n",
      "125004               1                0         10.000000     0.000000   \n",
      "125005               1                0          7.000000     1.000000   \n",
      "125006               0                0          3.000000     1.000000   \n",
      "125007               0                0          5.410244     1.000000   \n",
      "125008               0                0          5.000000     1.000000   \n",
      "125009               1                0          1.000000     0.841044   \n",
      "125010               0                0          5.000000     1.000000   \n",
      "125011               0                0          6.000000     1.000000   \n",
      "125012               0                0          5.410244     1.000000   \n",
      "125013               0                0          5.000000     1.000000   \n",
      "125014               1                0          6.000000     1.000000   \n",
      "125015               1                0          5.000000     1.000000   \n",
      "\n",
      "        op1_induction  op2_microwave     ...       op5_bed  op6_bidet  \\\n",
      "0            0.000000       0.000000     ...      0.000000   0.000000   \n",
      "1            0.000000       0.000000     ...      0.000000   0.000000   \n",
      "2            0.000000       1.000000     ...      1.000000   0.000000   \n",
      "3            0.000000       1.000000     ...      0.000000   0.000000   \n",
      "4            0.554587       0.295496     ...      0.227465   0.061906   \n",
      "5            0.000000       0.000000     ...      0.000000   0.000000   \n",
      "6            1.000000       1.000000     ...      1.000000   0.000000   \n",
      "7            0.000000       0.000000     ...      0.000000   0.000000   \n",
      "8            0.554587       0.295496     ...      0.227465   0.061906   \n",
      "9            1.000000       0.000000     ...      0.000000   0.000000   \n",
      "10           1.000000       0.000000     ...      0.000000   0.000000   \n",
      "11           0.554587       0.295496     ...      0.227465   0.061906   \n",
      "12           1.000000       0.000000     ...      0.000000   0.000000   \n",
      "13           0.000000       0.000000     ...      0.000000   0.000000   \n",
      "14           0.000000       1.000000     ...      0.000000   1.000000   \n",
      "15           1.000000       0.000000     ...      0.000000   0.000000   \n",
      "16           1.000000       1.000000     ...      1.000000   0.000000   \n",
      "17           0.000000       0.000000     ...      0.000000   0.000000   \n",
      "18           1.000000       0.000000     ...      0.000000   0.000000   \n",
      "19           0.000000       0.000000     ...      0.000000   0.000000   \n",
      "20           1.000000       1.000000     ...      1.000000   0.000000   \n",
      "21           0.000000       0.000000     ...      0.000000   0.000000   \n",
      "22           1.000000       0.000000     ...      0.000000   0.000000   \n",
      "23           1.000000       0.000000     ...      0.000000   0.000000   \n",
      "24           0.000000       0.000000     ...      0.000000   0.000000   \n",
      "25           1.000000       1.000000     ...      1.000000   0.000000   \n",
      "26           0.000000       1.000000     ...      0.000000   1.000000   \n",
      "27           1.000000       0.000000     ...      0.000000   0.000000   \n",
      "28           0.000000       0.000000     ...      0.000000   0.000000   \n",
      "29           1.000000       1.000000     ...      0.000000   0.000000   \n",
      "...               ...            ...     ...           ...        ...   \n",
      "124986       0.000000       0.000000     ...      0.000000   0.000000   \n",
      "124987       0.000000       0.000000     ...      0.000000   0.000000   \n",
      "124988       0.000000       0.000000     ...      0.000000   0.000000   \n",
      "124989       0.000000       0.000000     ...      0.000000   0.000000   \n",
      "124990       0.000000       1.000000     ...      1.000000   0.000000   \n",
      "124991       1.000000       1.000000     ...      0.000000   0.000000   \n",
      "124992       1.000000       1.000000     ...      1.000000   0.000000   \n",
      "124993       1.000000       1.000000     ...      1.000000   0.000000   \n",
      "124994       0.000000       1.000000     ...      1.000000   0.000000   \n",
      "124995       1.000000       1.000000     ...      0.000000   0.000000   \n",
      "124996       1.000000       1.000000     ...      0.000000   0.000000   \n",
      "124997       0.554587       0.295496     ...      0.227465   0.061906   \n",
      "124998       1.000000       0.000000     ...      1.000000   0.000000   \n",
      "124999       1.000000       1.000000     ...      0.000000   0.000000   \n",
      "125000       1.000000       1.000000     ...      0.000000   0.000000   \n",
      "125001       1.000000       0.000000     ...      1.000000   0.000000   \n",
      "125002       1.000000       0.000000     ...      0.000000   0.000000   \n",
      "125003       0.554587       0.295496     ...      0.227465   0.061906   \n",
      "125004       1.000000       0.000000     ...      0.000000   0.000000   \n",
      "125005       1.000000       0.000000     ...      0.000000   0.000000   \n",
      "125006       1.000000       1.000000     ...      1.000000   0.000000   \n",
      "125007       0.000000       0.000000     ...      0.000000   0.000000   \n",
      "125008       1.000000       0.000000     ...      1.000000   0.000000   \n",
      "125009       0.554587       0.295496     ...      0.227465   0.061906   \n",
      "125010       0.000000       1.000000     ...      1.000000   0.000000   \n",
      "125011       1.000000       0.000000     ...      0.000000   0.000000   \n",
      "125012       1.000000       1.000000     ...      1.000000   1.000000   \n",
      "125013       0.000000       0.000000     ...      1.000000   0.000000   \n",
      "125014       1.000000       1.000000     ...      0.000000   0.000000   \n",
      "125015       1.000000       0.000000     ...      0.000000   0.000000   \n",
      "\n",
      "        op7_desk  op8_closet    op9_tv  op10_refrig  op11_gas  op12_shoe  \\\n",
      "0       0.000000    0.000000  0.000000      1.00000   1.00000    1.00000   \n",
      "1       0.000000    0.000000  0.000000      0.00000   0.00000    1.00000   \n",
      "2       1.000000    1.000000  1.000000      1.00000   1.00000    1.00000   \n",
      "3       1.000000    1.000000  0.000000      1.00000   0.00000    1.00000   \n",
      "4       0.323936    0.527468  0.210076      0.69629   0.39293    0.86311   \n",
      "5       0.000000    0.000000  0.000000      0.00000   1.00000    1.00000   \n",
      "6       1.000000    0.000000  0.000000      1.00000   0.00000    1.00000   \n",
      "7       0.000000    0.000000  0.000000      1.00000   1.00000    1.00000   \n",
      "8       0.323936    0.527468  0.210076      0.69629   0.39293    0.86311   \n",
      "9       0.000000    0.000000  0.000000      1.00000   0.00000    1.00000   \n",
      "10      1.000000    1.000000  0.000000      0.00000   0.00000    1.00000   \n",
      "11      0.323936    0.527468  0.210076      0.69629   0.39293    0.86311   \n",
      "12      0.000000    1.000000  0.000000      1.00000   0.00000    1.00000   \n",
      "13      0.000000    0.000000  0.000000      0.00000   0.00000    1.00000   \n",
      "14      1.000000    1.000000  1.000000      1.00000   1.00000    1.00000   \n",
      "15      1.000000    1.000000  0.000000      1.00000   0.00000    1.00000   \n",
      "16      1.000000    1.000000  0.000000      1.00000   0.00000    0.00000   \n",
      "17      0.000000    0.000000  0.000000      0.00000   1.00000    1.00000   \n",
      "18      0.000000    1.000000  1.000000      1.00000   0.00000    1.00000   \n",
      "19      0.000000    0.000000  0.000000      0.00000   1.00000    0.00000   \n",
      "20      1.000000    1.000000  1.000000      1.00000   0.00000    1.00000   \n",
      "21      0.000000    0.000000  0.000000      0.00000   0.00000    0.00000   \n",
      "22      1.000000    1.000000  0.000000      1.00000   0.00000    1.00000   \n",
      "23      0.000000    0.000000  0.000000      1.00000   0.00000    1.00000   \n",
      "24      0.000000    0.000000  0.000000      0.00000   1.00000    1.00000   \n",
      "25      1.000000    1.000000  0.000000      1.00000   0.00000    1.00000   \n",
      "26      1.000000    1.000000  0.000000      1.00000   1.00000    1.00000   \n",
      "27      1.000000    1.000000  1.000000      1.00000   0.00000    1.00000   \n",
      "28      0.000000    0.000000  0.000000      0.00000   0.00000    0.00000   \n",
      "29      0.000000    1.000000  1.000000      1.00000   0.00000    1.00000   \n",
      "...          ...         ...       ...          ...       ...        ...   \n",
      "124986  0.000000    0.000000  1.000000      0.00000   1.00000    0.00000   \n",
      "124987  0.000000    0.000000  0.000000      0.00000   0.00000    1.00000   \n",
      "124988  0.000000    0.000000  0.000000      0.00000   1.00000    1.00000   \n",
      "124989  0.000000    0.000000  0.000000      0.00000   1.00000    1.00000   \n",
      "124990  0.000000    0.000000  1.000000      1.00000   1.00000    1.00000   \n",
      "124991  0.000000    1.000000  0.000000      0.00000   0.00000    1.00000   \n",
      "124992  1.000000    1.000000  1.000000      1.00000   0.00000    1.00000   \n",
      "124993  0.000000    1.000000  1.000000      1.00000   0.00000    1.00000   \n",
      "124994  1.000000    1.000000  0.000000      1.00000   1.00000    1.00000   \n",
      "124995  1.000000    1.000000  0.000000      1.00000   0.00000    1.00000   \n",
      "124996  1.000000    1.000000  0.000000      1.00000   0.00000    0.00000   \n",
      "124997  0.323936    0.527468  0.210076      0.69629   0.39293    0.86311   \n",
      "124998  0.000000    1.000000  1.000000      1.00000   0.00000    0.00000   \n",
      "124999  1.000000    1.000000  0.000000      1.00000   0.00000    1.00000   \n",
      "125000  1.000000    1.000000  0.000000      1.00000   0.00000    1.00000   \n",
      "125001  0.000000    1.000000  1.000000      1.00000   0.00000    0.00000   \n",
      "125002  0.000000    1.000000  0.000000      1.00000   0.00000    1.00000   \n",
      "125003  0.323936    0.527468  0.210076      0.69629   0.39293    0.86311   \n",
      "125004  0.000000    0.000000  0.000000      1.00000   0.00000    1.00000   \n",
      "125005  1.000000    1.000000  0.000000      1.00000   0.00000    1.00000   \n",
      "125006  1.000000    1.000000  1.000000      1.00000   0.00000    1.00000   \n",
      "125007  0.000000    0.000000  0.000000      0.00000   0.00000    0.00000   \n",
      "125008  1.000000    1.000000  1.000000      1.00000   0.00000    1.00000   \n",
      "125009  0.323936    0.527468  0.210076      0.69629   0.39293    0.86311   \n",
      "125010  1.000000    1.000000  1.000000      1.00000   1.00000    1.00000   \n",
      "125011  1.000000    1.000000  0.000000      1.00000   0.00000    1.00000   \n",
      "125012  1.000000    1.000000  1.000000      1.00000   1.00000    1.00000   \n",
      "125013  1.000000    1.000000  0.000000      1.00000   1.00000    0.00000   \n",
      "125014  1.000000    1.000000  0.000000      1.00000   0.00000    1.00000   \n",
      "125015  0.000000    0.000000  0.000000      1.00000   0.00000    1.00000   \n",
      "\n",
      "        parking      charge  \n",
      "0             0   63.306890  \n",
      "1             1   77.742520  \n",
      "2             0   52.178150  \n",
      "3             0   40.217815  \n",
      "4             1   35.485040  \n",
      "5             1   69.356300  \n",
      "6             0   52.217815  \n",
      "7             0   42.217815  \n",
      "8             0   54.435630  \n",
      "9             1   86.494785  \n",
      "10            1   69.435630  \n",
      "11            0   54.435630  \n",
      "12            1   47.742520  \n",
      "13            0   64.435630  \n",
      "14            1   35.155247  \n",
      "15            1   35.485040  \n",
      "16            0   42.217815  \n",
      "17            1  185.247049  \n",
      "18            1   77.435630  \n",
      "19            1   75.405710  \n",
      "20            0   39.920670  \n",
      "21            0   73.306890  \n",
      "22            1   54.435630  \n",
      "23            1   32.217815  \n",
      "24            1   57.663190  \n",
      "25            0   44.435630  \n",
      "26            1   79.841340  \n",
      "27            1   48.791930  \n",
      "28            1   53.227560  \n",
      "29            1   49.435630  \n",
      "...         ...         ...  \n",
      "124986        1   79.841340  \n",
      "124987        1   82.059155  \n",
      "124988        1   93.148230  \n",
      "124989        1  106.455120  \n",
      "124990        1   60.266138  \n",
      "124991        0   48.791930  \n",
      "124992        1   31.330689  \n",
      "124993        1   31.330689  \n",
      "124994        1   42.217815  \n",
      "124995        1   53.227560  \n",
      "124996        0   41.330689  \n",
      "124997        0   41.774252  \n",
      "124998        0   35.177425  \n",
      "124999        0   48.791930  \n",
      "125000        1   57.663190  \n",
      "125001        0   26.613780  \n",
      "125002        1   78.871260  \n",
      "125003        1  106.455120  \n",
      "125004        1  128.633269  \n",
      "125005        1   46.574115  \n",
      "125006        1   50.221781  \n",
      "125007        1   64.435630  \n",
      "125008        1   64.217815  \n",
      "125009        1   44.356300  \n",
      "125010        1   33.330689  \n",
      "125011        1   28.443563  \n",
      "125012        1   10.044356  \n",
      "125013        0   59.435630  \n",
      "125014        1   44.356300  \n",
      "125015        1   53.227560  \n",
      "\n",
      "[125016 rows x 22 columns]\n"
     ]
    }
   ],
   "source": [
    "y = np.array(df['charge']).reshape(-1,1)\n",
    "\n",
    "#동 -> 숫자로 \n",
    "add = np.array(df['addr_d3'])\n",
    "le = LabelEncoder()\n",
    "le.fit(add)\n",
    "add = le.transform(add).reshape(-1,1)\n",
    "df = df.drop(columns = ['addr_d3'])\n",
    "\n",
    "#시간 -> 숫자로\n",
    "write_date = np.array([datetime.datetime.strptime(d, '%Y-%m-%d').timestamp() for d in df['write_date']])\n",
    "df = df.drop(columns = ['write_date'])\n",
    "\n",
    "\n",
    "#방종류-> 라벨링\n",
    "\n",
    "room_type = np.array(df['room_type'])\n",
    "le.fit(room_type)\n",
    "room_type  = le.transform(room_type).reshape(-1,1)\n",
    "df = df.drop(columns = ['room_type'])\n",
    "\n",
    "\n",
    "#층수-> 라벨링\n",
    "room_floor = np.array(df['room_floor'])\n",
    "le.fit(room_floor)\n",
    "room_floor = le.transform(room_floor).reshape(-1,1)\n",
    "df = df.drop(columns = ['room_floor'])\n",
    "\n",
    "print(df)\n",
    "\n",
    "#feature만 추출, X의 index 0,1은 room_size\n",
    "X = np.array(df[df.columns[df.columns!='charge']])\n",
    "\n",
    "\n"
   ]
  },
  {
   "cell_type": "code",
   "execution_count": 4,
   "metadata": {
    "scrolled": true
   },
   "outputs": [],
   "source": [
    "#One Hot Encoder\n",
    "ohe = OneHotEncoder()\n",
    "\n",
    "ohe.fit(add)\n",
    "X = np.hstack((X, ohe.transform(add).toarray()))\n",
    "\n",
    "ohe.fit(room_type)\n",
    "X = np.hstack((X, ohe.transform(room_type).toarray()))\n",
    "\n",
    "ohe.fit(room_floor)\n",
    "X = np.hstack((X, ohe.transform(room_floor).toarray()))\n",
    "\n",
    "#X의 index -1 은 write_date\n",
    "X = np.hstack((X,write_date.reshape(-1,1)))\n"
   ]
  },
  {
   "cell_type": "markdown",
   "metadata": {},
   "source": [
    "# Normalizing"
   ]
  },
  {
   "cell_type": "code",
   "execution_count": 5,
   "metadata": {},
   "outputs": [],
   "source": [
    "#room_size m^2 normalize\n",
    "\n",
    "mean = X[:,0].mean()\n",
    "std = X[:,0].std()\n",
    "\n",
    "X[:,0] = (X[:,0]-mean) / std\n",
    "\n",
    "#room_size 평 normalize\n",
    "mean = X[:,1].mean()\n",
    "std = X[:,1].std()\n",
    "\n",
    "X[:,1] = (X[:,1]-mean) / std\n",
    "\n",
    "#maintanence_cost normalize\n",
    "mean = X[:,6].mean()\n",
    "std = X[:,6].std()\n",
    "\n",
    "X[:,6] = (X[:,6]-mean) / std\n",
    "\n",
    "\n",
    "#write_date normalize\n",
    "mean = X[:,-1].mean()\n",
    "std = X[:,-1].std()\n",
    "\n",
    "X[:,-1] = (X[:,-1]-mean) / std\n"
   ]
  },
  {
   "cell_type": "markdown",
   "metadata": {},
   "source": [
    "# Data split"
   ]
  },
  {
   "cell_type": "code",
   "execution_count": 6,
   "metadata": {},
   "outputs": [],
   "source": [
    "#split train/test cv는 cross_val_score 사용해서 k-fold\n",
    "\n",
    "X_train, X_test, y_train, y_test = train_test_split(X, y, test_size=10000, random_state =10)\n"
   ]
  },
  {
   "cell_type": "markdown",
   "metadata": {},
   "source": [
    "# Feature selection"
   ]
  },
  {
   "cell_type": "code",
   "execution_count": 7,
   "metadata": {
    "scrolled": true
   },
   "outputs": [
    {
     "name": "stdout",
     "output_type": "stream",
     "text": [
      "0.46980092460755857\n",
      "0.46992747141274477\n",
      "0.46966041644337525\n",
      "0.46978400309162105\n",
      "==================================================\n",
      "Train Set Feature Shape : (115016, 447)\n",
      "Test Set Feature Shape : (10000, 447)\n"
     ]
    }
   ],
   "source": [
    "from sklearn.linear_model import Lasso\n",
    "\n",
    "lasso = Lasso()\n",
    "cv_list = []\n",
    "fs_data_list = []\n",
    "final_data_list = []\n",
    "\n",
    "X_tmp, X_fs, y_tmp, y_fs = train_test_split(X_train, y_train, test_size=20000, random_state =10)\n",
    "\n",
    "#with m^2, write_date\n",
    "selector = [x for x in range(X_fs.shape[1]) if x != 1]\n",
    "fs_data_list.append(X_fs[:, selector])\n",
    "final_data_list.append([X_train[:, selector], X_test[:, selector]])\n",
    "\n",
    "#with 평, write_date\n",
    "fs_data_list.append(X_fs[:,1:])\n",
    "final_data_list.append([X_train[:, 1:], X_test[:, 1:]])\n",
    "\n",
    "#with m^2, without write_date\n",
    "fs_data_list.append(fs_data_list[0][:,:-1])\n",
    "final_data_list.append([final_data_list[0][0][:, :-1], final_data_list[0][1][:, :-1]])\n",
    "\n",
    "#with 평, without write_date\n",
    "fs_data_list.append(fs_data_list[1][:,:-1])\n",
    "final_data_list.append([final_data_list[1][0][:, :-1], final_data_list[1][1][:, :-1]])\n",
    "\n",
    "for dataset in fs_data_list:\n",
    "    cv_list.append(np.mean(cross_val_score(lasso,dataset,y_fs,cv=10)))\n",
    "\n",
    "for score in cv_list:\n",
    "    print(score)\n",
    "\n",
    "max_index = cv_list.index(max(cv_list))\n",
    "    \n",
    "    \n",
    "# 최종 feature selection data set 수정\n",
    "X_train = final_data_list[max_index][0]\n",
    "X_test = final_data_list[max_index][1]\n",
    "\n",
    "print('='*50)\n",
    "\n",
    "print(\"Train Set Feature Shape : {}\".format(X_train.shape))\n",
    "print(\"Test Set Feature Shape : {}\".format(X_test.shape))\n"
   ]
  },
  {
   "cell_type": "markdown",
   "metadata": {},
   "source": [
    "# Linear Regression"
   ]
  },
  {
   "cell_type": "code",
   "execution_count": 8,
   "metadata": {},
   "outputs": [
    {
     "name": "stdout",
     "output_type": "stream",
     "text": [
      "Mean Squared Error For Train(LR) : 705.7569436314152\n",
      "Train Set Score(LR) : 0.6404724762930015\n",
      "==================================================\n",
      "Mean Squared Error For Test(LR) : 1.516110347331394e+16\n",
      "Test Set Score(LR) : -8498451791561.476\n"
     ]
    }
   ],
   "source": [
    "linear_model =  LinearRegression()\n",
    "\n",
    "linear_model.fit(X_train, y_train)\n",
    "train_error = mean_squared_error(y_train, linear_model.predict(X_train))\n",
    "test_error = mean_squared_error(y_test, linear_model.predict(X_test))\n",
    "\n",
    "print(\"Mean Squared Error For Train(LR) : {}\".format(train_error))\n",
    "print(\"Train Set Score(LR) : {}\".format(linear_model.score(X_train, y_train)))\n",
    "print('='*50)\n",
    "print(\"Mean Squared Error For Test(LR) : {}\".format(test_error))\n",
    "print(\"Test Set Score(LR) : {}\".format(linear_model.score(X_test, y_test)))\n"
   ]
  },
  {
   "cell_type": "markdown",
   "metadata": {},
   "source": [
    "# Ridge Regression"
   ]
  },
  {
   "cell_type": "code",
   "execution_count": 9,
   "metadata": {},
   "outputs": [
    {
     "name": "stdout",
     "output_type": "stream",
     "text": [
      "Mean Squared Error For Train(Ridge R) : 710.9380636544037\n",
      "Train Set Score(Ridge R) : 0.6378331041002049\n",
      "==================================================\n",
      "Mean Squared Error For Test(Ridge R) : 713.8784488124169\n",
      "Test Set Score(Ridge R) : 0.5998403682854345\n"
     ]
    }
   ],
   "source": [
    "alphas = [1.e-06, 1.e-05, 1.e-04, 1.e-03, 1.e-02, 1.e-01, 1.e+00, 1.e+01, 1.e+02, 1.e+03, 1.e+04, 1.e+05]\n",
    "\n",
    "train_error_list = []\n",
    "\n",
    "for each_alpha in alphas:\n",
    "    ridge_model =  Ridge(alpha=each_alpha)\n",
    "    train_error_list.append(np.mean(cross_val_score(ridge_model, X_train, y_train, cv=5)))\n",
    "    \n",
    "ridge_model =  Ridge(alpha=alphas[train_error_list.index(max(train_error_list))])\n",
    "ridge_model.fit(X_train, y_train)\n",
    "\n",
    "train_error = mean_squared_error(y_train, ridge_model.predict(X_train))\n",
    "test_error = mean_squared_error(y_test, ridge_model.predict(X_test))\n",
    "\n",
    "print(\"Mean Squared Error For Train(Ridge R) : {}\".format(train_error))\n",
    "print(\"Train Set Score(Ridge R) : {}\".format(ridge_model.score(X_train, y_train)))\n",
    "print('='*50)\n",
    "print(\"Mean Squared Error For Test(Ridge R) : {}\".format(test_error))\n",
    "print(\"Test Set Score(Ridge R) : {}\".format(ridge_model.score(X_test, y_test)))\n"
   ]
  },
  {
   "cell_type": "markdown",
   "metadata": {},
   "source": [
    "# Lasso Regression"
   ]
  },
  {
   "cell_type": "code",
   "execution_count": 10,
   "metadata": {},
   "outputs": [
    {
     "name": "stdout",
     "output_type": "stream",
     "text": [
      "Mean Squared Error For Train(Lasso R) : 809.2862760840391\n",
      "Train Set Score(Lasso R) : 0.5877324432496005\n",
      "==================================================\n",
      "Mean Squared Error For Test(Lasso R) : 897.0478016081789\n",
      "Test Set Score(Lasso R) : 0.49716605324191177\n"
     ]
    }
   ],
   "source": [
    "alphas = [1.e-01, 1.e+00, 1.e+01, 1.e+02, 1.e+03, 1.e+04, 1.e+05]\n",
    "\n",
    "train_error_list = []\n",
    "\n",
    "for each_alpha in alphas:\n",
    "    lasso_model =  Lasso(alpha=each_alpha)\n",
    "    train_error_list.append(np.mean(cross_val_score(lasso_model, X_train, y_train, cv=5)))\n",
    "\n",
    "lasso_model =  Lasso(alpha=alphas[train_error_list.index(max(train_error_list))])\n",
    "lasso_model.fit(X_train, y_train)\n",
    "\n",
    "train_error = mean_squared_error(y_train, lasso_model.predict(X_train))\n",
    "test_error = mean_squared_error(y_test, lasso_model.predict(X_test))\n",
    "\n",
    "print(\"Mean Squared Error For Train(Lasso R) : {}\".format(train_error))\n",
    "print(\"Train Set Score(Lasso R) : {}\".format(lasso_model.score(X_train, y_train)))\n",
    "print('='*50)\n",
    "print(\"Mean Squared Error For Test(Lasso R) : {}\".format(test_error))\n",
    "print(\"Test Set Score(Lasso R) : {}\".format(lasso_model.score(X_test, y_test)))\n",
    "\n"
   ]
  },
  {
   "cell_type": "markdown",
   "metadata": {},
   "source": [
    "# Logistic Regression"
   ]
  },
  {
   "cell_type": "code",
   "execution_count": 11,
   "metadata": {},
   "outputs": [
    {
     "data": {
      "text/plain": [
       "\"\\ncoefs = [0.01, 0.05, 0.1, 0.5, 1, 10]\\nopt_coef = 1\\n\\ny_train = np.ravel(y_train)\\ny_test = np.ravel(y_test)\\n\\nloss_tr = []\\n\\ny_train_encoded = le.fit_transform(y_train)\\ny_test_encoded = le.fit_transform(y_test)\\n\\nfor coef in coefs:\\n    print(coef)\\n    logreg = LogisticRegression(C=coef, solver='lbfgs')\\n    logreg.fit(X_train, y_train_encoded)\\n    loss_tr.append(log_loss(y_train_encoded, logreg.predict_proba(X_train)))\\n\""
      ]
     },
     "execution_count": 11,
     "metadata": {},
     "output_type": "execute_result"
    }
   ],
   "source": [
    "\"\"\"\n",
    "coefs = [0.01, 0.05, 0.1, 0.5, 1, 10]\n",
    "opt_coef = 1\n",
    "\n",
    "y_train = np.ravel(y_train)\n",
    "y_test = np.ravel(y_test)\n",
    "\n",
    "loss_tr = []\n",
    "\n",
    "y_train_encoded = le.fit_transform(y_train)\n",
    "y_test_encoded = le.fit_transform(y_test)\n",
    "\n",
    "for coef in coefs:\n",
    "    print(coef)\n",
    "    logreg = LogisticRegression(C=coef, solver='lbfgs')\n",
    "    logreg.fit(X_train, y_train_encoded)\n",
    "    loss_tr.append(log_loss(y_train_encoded, logreg.predict_proba(X_train)))\n",
    "\"\"\"    "
   ]
  },
  {
   "cell_type": "code",
   "execution_count": 12,
   "metadata": {},
   "outputs": [
    {
     "data": {
      "text/plain": [
       "\"\\nplt.plot(coefs, loss_tr, 'r-')\\nplt.show()\\n\""
      ]
     },
     "execution_count": 12,
     "metadata": {},
     "output_type": "execute_result"
    }
   ],
   "source": [
    "\"\"\"\n",
    "plt.plot(coefs, loss_tr, 'r-')\n",
    "plt.show()\n",
    "\"\"\""
   ]
  },
  {
   "cell_type": "code",
   "execution_count": 13,
   "metadata": {},
   "outputs": [
    {
     "data": {
      "text/plain": [
       "'\\nlogreg = LogisticRegression(C=coefs[loss_tr.index(min(loss_tr))], solver=\\'lbfgs\\')\\nlogreg.fit(X_train, y_train_encoded)\\n\\nprint(\"log loss For Test(Logistic R) : {}\".format(log_loss(Y_test, logreg.predict_proba(X_test))))\\nprint(\"Test Set Score(Logistic R) : {}\".format(logreg.score(X_test, Y_test)))\\n'"
      ]
     },
     "execution_count": 13,
     "metadata": {},
     "output_type": "execute_result"
    }
   ],
   "source": [
    "\"\"\"\n",
    "logreg = LogisticRegression(C=coefs[loss_tr.index(min(loss_tr))], solver='lbfgs')\n",
    "logreg.fit(X_train, y_train_encoded)\n",
    "\n",
    "print(\"log loss For Test(Logistic R) : {}\".format(log_loss(Y_test, logreg.predict_proba(X_test))))\n",
    "print(\"Test Set Score(Logistic R) : {}\".format(logreg.score(X_test, Y_test)))\n",
    "\"\"\""
   ]
  },
  {
   "cell_type": "markdown",
   "metadata": {},
   "source": [
    "# SVM"
   ]
  },
  {
   "cell_type": "code",
   "execution_count": 9,
   "metadata": {
    "scrolled": true
   },
   "outputs": [
    {
     "name": "stdout",
     "output_type": "stream",
     "text": [
      "0.47834358457474985\n",
      "0.45249856387654686\n",
      "0.464011501869575\n",
      "-6.895434659597332\n"
     ]
    }
   ],
   "source": [
    "# kernel 'rbf', 'poly', 'linear', 'sigmoid', 'precomputed'\n",
    "# degree for poly\n",
    "svr1 = SVR(kernel ='rbf')\n",
    "print(np.mean(cross_val_score(svr1,X_train,y_train, cv =3)))\n",
    "\n",
    "svr2 = SVR(kernel = 'poly', degree =3)\n",
    "print(np.mean(cross_val_score(svr2,X_train,y_train, cv =3)))\n",
    "\n",
    "svr3 = SVR(kernel = 'linear')\n",
    "print(np.mean(cross_val_score(svr3,X_train,y_train, cv =3)))\n",
    "\n",
    "svr4 = SVR(kernel = 'sigmoid')\n",
    "print(np.mean(cross_val_score(svr4,X_train,y_train, cv =3)))\n"
   ]
  },
  {
   "cell_type": "markdown",
   "metadata": {},
   "source": [
    "# Neural Network"
   ]
  },
  {
   "cell_type": "code",
   "execution_count": 15,
   "metadata": {},
   "outputs": [
    {
     "name": "stdout",
     "output_type": "stream",
     "text": [
      "identity model score : 0.629298375997043\n"
     ]
    },
    {
     "name": "stderr",
     "output_type": "stream",
     "text": [
      "D:\\anaconda\\lib\\site-packages\\sklearn\\neural_network\\multilayer_perceptron.py:562: ConvergenceWarning: Stochastic Optimizer: Maximum iterations (1000) reached and the optimization hasn't converged yet.\n",
      "  % self.max_iter, ConvergenceWarning)\n",
      "D:\\anaconda\\lib\\site-packages\\sklearn\\neural_network\\multilayer_perceptron.py:562: ConvergenceWarning: Stochastic Optimizer: Maximum iterations (1000) reached and the optimization hasn't converged yet.\n",
      "  % self.max_iter, ConvergenceWarning)\n",
      "D:\\anaconda\\lib\\site-packages\\sklearn\\neural_network\\multilayer_perceptron.py:562: ConvergenceWarning: Stochastic Optimizer: Maximum iterations (1000) reached and the optimization hasn't converged yet.\n",
      "  % self.max_iter, ConvergenceWarning)\n",
      "D:\\anaconda\\lib\\site-packages\\sklearn\\neural_network\\multilayer_perceptron.py:562: ConvergenceWarning: Stochastic Optimizer: Maximum iterations (1000) reached and the optimization hasn't converged yet.\n",
      "  % self.max_iter, ConvergenceWarning)\n",
      "D:\\anaconda\\lib\\site-packages\\sklearn\\neural_network\\multilayer_perceptron.py:562: ConvergenceWarning: Stochastic Optimizer: Maximum iterations (1000) reached and the optimization hasn't converged yet.\n",
      "  % self.max_iter, ConvergenceWarning)\n"
     ]
    },
    {
     "name": "stdout",
     "output_type": "stream",
     "text": [
      "logistic model score : 0.7380988198888109\n"
     ]
    },
    {
     "name": "stderr",
     "output_type": "stream",
     "text": [
      "D:\\anaconda\\lib\\site-packages\\sklearn\\neural_network\\multilayer_perceptron.py:562: ConvergenceWarning: Stochastic Optimizer: Maximum iterations (1000) reached and the optimization hasn't converged yet.\n",
      "  % self.max_iter, ConvergenceWarning)\n",
      "D:\\anaconda\\lib\\site-packages\\sklearn\\neural_network\\multilayer_perceptron.py:562: ConvergenceWarning: Stochastic Optimizer: Maximum iterations (1000) reached and the optimization hasn't converged yet.\n",
      "  % self.max_iter, ConvergenceWarning)\n",
      "D:\\anaconda\\lib\\site-packages\\sklearn\\neural_network\\multilayer_perceptron.py:562: ConvergenceWarning: Stochastic Optimizer: Maximum iterations (1000) reached and the optimization hasn't converged yet.\n",
      "  % self.max_iter, ConvergenceWarning)\n",
      "D:\\anaconda\\lib\\site-packages\\sklearn\\neural_network\\multilayer_perceptron.py:562: ConvergenceWarning: Stochastic Optimizer: Maximum iterations (1000) reached and the optimization hasn't converged yet.\n",
      "  % self.max_iter, ConvergenceWarning)\n",
      "D:\\anaconda\\lib\\site-packages\\sklearn\\neural_network\\multilayer_perceptron.py:562: ConvergenceWarning: Stochastic Optimizer: Maximum iterations (1000) reached and the optimization hasn't converged yet.\n",
      "  % self.max_iter, ConvergenceWarning)\n"
     ]
    },
    {
     "name": "stdout",
     "output_type": "stream",
     "text": [
      "tanh model score : 0.6937177187009084\n",
      "relu model score : 0.7744265577852907\n",
      "Optimal Activation : relu\n",
      "==================================================\n",
      "layer size = 50 model score : 0.7836108141388444\n",
      "layer size = 100 model score : 0.7709456532893131\n",
      "layer size = 150 model score : 0.7624035491701223\n"
     ]
    },
    {
     "name": "stderr",
     "output_type": "stream",
     "text": [
      "D:\\anaconda\\lib\\site-packages\\sklearn\\neural_network\\multilayer_perceptron.py:562: ConvergenceWarning: Stochastic Optimizer: Maximum iterations (1000) reached and the optimization hasn't converged yet.\n",
      "  % self.max_iter, ConvergenceWarning)\n",
      "D:\\anaconda\\lib\\site-packages\\sklearn\\neural_network\\multilayer_perceptron.py:562: ConvergenceWarning: Stochastic Optimizer: Maximum iterations (1000) reached and the optimization hasn't converged yet.\n",
      "  % self.max_iter, ConvergenceWarning)\n",
      "D:\\anaconda\\lib\\site-packages\\sklearn\\neural_network\\multilayer_perceptron.py:562: ConvergenceWarning: Stochastic Optimizer: Maximum iterations (1000) reached and the optimization hasn't converged yet.\n",
      "  % self.max_iter, ConvergenceWarning)\n"
     ]
    },
    {
     "name": "stdout",
     "output_type": "stream",
     "text": [
      "layer size = 200 model score : 0.73680883465961\n"
     ]
    }
   ],
   "source": [
    "active_list = ['identity', 'logistic', 'tanh', 'relu']\n",
    "layer_list = [50, 100, 150, 200]\n",
    "\n",
    "nn_score_list = []\n",
    "\n",
    "y_train = np.ravel(y_train)\n",
    "y_test = np.ravel(y_test)\n",
    "\n",
    "for each_active in active_list:\n",
    "    nn_model = MLPRegressor(activation = each_active, max_iter =1000)\n",
    "    nn_score = np.mean(cross_val_score(nn_model, X_train, y_train, cv =5))\n",
    "    print(\"{} model score : {}\".format(each_active, nn_score))\n",
    "    nn_score_list.append(nn_score)\n",
    "    \n",
    "    \n",
    "opt_activation = active_list[nn_score_list.index(max(nn_score_list))]\n",
    "print(\"Optimal Activation : {}\".format(opt_activation))\n",
    "\n",
    "print('='*50)\n",
    "\n",
    "#가장 효율이 높게 나온 activation 기준으로 다시 한 번 cv\n",
    "\n",
    "nn_score_list = []\n",
    "nn_model_list = []\n",
    "\n",
    "for layer in layer_list:\n",
    "    nn_model = MLPRegressor(activation = opt_activation, hidden_layer_sizes = (layer,), max_iter =1000)\n",
    "    nn_score = np.mean(cross_val_score(nn_model, X_train, y_train, cv =5))\n",
    "    print(\"layer size = {} model score : {}\".format(layer, nn_score))\n",
    "    nn_score_list.append(nn_score)\n",
    "    nn_model_list.append(nn_model)\n",
    "    \n",
    "opt_model_index = nn_score_list.index(max(nn_score_list))\n"
   ]
  },
  {
   "cell_type": "markdown",
   "metadata": {},
   "source": [
    "# test"
   ]
  },
  {
   "cell_type": "code",
   "execution_count": 16,
   "metadata": {},
   "outputs": [
    {
     "name": "stdout",
     "output_type": "stream",
     "text": [
      "Optimal Activation : relu , Optimal hidden layer : 50\n",
      "Train Score : 0.7836108141388444 , Test Score : 0.7766045836836311 , Test RMSE : 19.963313516555154\n"
     ]
    }
   ],
   "source": [
    "# cv결과 optimal hidden layer = (50) optimal activate function = relu\n",
    "\n",
    "MLPtest = nn_model_list[opt_model_index]\n",
    "MLPtest.fit(X_train,y_train)\n",
    "y_predicted = MLPtest.predict(X_test)\n",
    "RMSE = mean_squared_error(y_test,y_predicted)**0.5\n",
    "\n",
    "print(\"Optimal Activation : {} , Optimal hidden layer : {}\".format(opt_activation, layer_list[opt_model_index]))\n",
    "print(\"Train Score : {} , Test Score : {} , Test RMSE : {}\".format(nn_score_list[opt_model_index], MLPtest.score(X_test, y_test), RMSE))\n"
   ]
  },
  {
   "cell_type": "markdown",
   "metadata": {},
   "source": [
    "# ploting"
   ]
  },
  {
   "cell_type": "code",
   "execution_count": 17,
   "metadata": {},
   "outputs": [
    {
     "data": {
      "image/png": "[encoded data removed]",
      "text/plain": [
       "<Figure size 720x720 with 1 Axes>"
      ]
     },
     "metadata": {
      "needs_background": "light"
     },
     "output_type": "display_data"
    }
   ],
   "source": [
    "# 예측치와 실제 label 값 scatter. 기준선은 y=x\n",
    "plt.figure(figsize =[10,10])\n",
    "plt.scatter(y_test,y_predicted, marker ='o', s= 10, alpha = 0.5)\n",
    "plt.plot([0,1000],[0,1000] ,c ='r')\n",
    "plt.show()"
   ]
  },
  {
   "cell_type": "code",
   "execution_count": null,
   "metadata": {},
   "outputs": [],
   "source": []
  }
 ],
 "metadata": {
  "kernelspec": {
   "display_name": "Python 3",
   "language": "python",
   "name": "python3"
  },
  "language_info": {
   "codemirror_mode": {
    "name": "ipython",
    "version": 3
   },
   "file_extension": ".py",
   "mimetype": "text/x-python",
   "name": "python",
   "nbconvert_exporter": "python",
   "pygments_lexer": "ipython3",
   "version": "3.7.1"
  }
 },
 "nbformat": 4,
 "nbformat_minor": 2
}
